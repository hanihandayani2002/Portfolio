{
  "nbformat": 4,
  "nbformat_minor": 0,
  "metadata": {
    "colab": {
      "provenance": []
    },
    "kernelspec": {
      "name": "python3",
      "display_name": "Python 3"
    },
    "language_info": {
      "name": "python"
    }
  },
  "cells": [
    {
      "cell_type": "markdown",
      "source": [
        "PERBANDINGAN RANDOM FOREST DAN ADABOOST TERHADAP KLASIFIKASI INDEKS PEMBANGUNAN MANUSIA (IPM)"
      ],
      "metadata": {
        "id": "VM07if8Dub2Z"
      }
    },
    {
      "cell_type": "markdown",
      "source": [
        "Suatu negara bisa dikatakan berhasil jika dilihat dari kondisi masyarakatnya. untuk mengembangkan kualitas masyarakat suatu negara dapat dilakukan dengan cara pembangunan manusia.\n",
        "Ada beberapa faktor yang mempengaruhi indeks pembangunan manusia yaitu terdiri dari harapan lama sekolah, rerata lama sekolah, usia harapan hidup dan pengeluaran perkapita.\n",
        "Untuk membantu efektifitas kinerja pemerintah dalam menganalisis kategori IPM masing-masing daerah di Indonesia perlu adanya suatu sistem keputusan yang dapat menentukan klasifikasi kategori IPM di masing-masing daerah secara cepat dan akurat.\n",
        "Oleh karena itu dilakukan klasifikasi indeks pembangunan manusia dengan menggunakan algoritma klasifikasi sebagai perbandingan antara Random forest dan adaboost serta  menentukan faktor terpenting pada pembangunan indeks manusia."
      ],
      "metadata": {
        "id": "FcxbVnDBvejB"
      }
    },
    {
      "cell_type": "code",
      "execution_count": null,
      "metadata": {
        "id": "PQ0gdhnmJoTl"
      },
      "outputs": [],
      "source": [
        "import numpy as np\n",
        "import pandas as pd\n",
        "import matplotlib.pyplot as plt\n",
        "import seaborn as sns\n",
        "import warnings\n",
        "warnings.filterwarnings('ignore')\n",
        "from sklearn.preprocessing import LabelEncoder\n",
        "from sklearn.model_selection import train_test_split\n",
        "import graphviz\n",
        "from sklearn.tree import export_graphviz\n",
        "from sklearn.ensemble import AdaBoostClassifier\n",
        "from sklearn.metrics import accuracy_score\n",
        "from sklearn.ensemble import RandomForestClassifier"
      ]
    },
    {
      "cell_type": "code",
      "source": [
        "data = pd.read_csv('IPM.csv') #load dataset IPM"
      ],
      "metadata": {
        "id": "w24AwpNiV35b"
      },
      "execution_count": null,
      "outputs": []
    },
    {
      "cell_type": "code",
      "source": [
        "data"
      ],
      "metadata": {
        "colab": {
          "base_uri": "https://localhost:8080/",
          "height": 423
        },
        "id": "xxYR9qDCySs2",
        "outputId": "c97d50ec-7419-48c7-b047-df616ba633f6"
      },
      "execution_count": null,
      "outputs": [
        {
          "output_type": "execute_result",
          "data": {
            "text/plain": [
              "      Harapan_Lama_Sekolah  Pengeluaran_Perkapita  Rerata_Lama_Sekolah  \\\n",
              "0                    14.36                   9572                 9.37   \n",
              "1                    13.90                   7148                 9.48   \n",
              "2                    14.32                   8776                 8.68   \n",
              "3                    14.60                   8180                 8.88   \n",
              "4                    14.01                   8030                 9.67   \n",
              "...                    ...                    ...                  ...   \n",
              "2191                 10.13                   5522                 4.91   \n",
              "2192                  7.11                   5440                 2.51   \n",
              "2193                  9.79                   4761                 2.99   \n",
              "2194                 14.99                  14922                11.30   \n",
              "2195                 12.91                  11059                 8.17   \n",
              "\n",
              "      Usia_Harapan_Hidup     IPM  \n",
              "0                  69.96    High  \n",
              "1                  65.28  Normal  \n",
              "2                  67.43  Normal  \n",
              "3                  64.40  Normal  \n",
              "4                  68.22  Normal  \n",
              "...                  ...     ...  \n",
              "2191               65.32     Low  \n",
              "2192               65.26     Low  \n",
              "2193               64.83     Low  \n",
              "2194               70.15    High  \n",
              "2195               71.20    High  \n",
              "\n",
              "[2196 rows x 5 columns]"
            ],
            "text/html": [
              "\n",
              "  <div id=\"df-f29f439d-ca7b-4d4d-8f56-f109d3d70c3c\">\n",
              "    <div class=\"colab-df-container\">\n",
              "      <div>\n",
              "<style scoped>\n",
              "    .dataframe tbody tr th:only-of-type {\n",
              "        vertical-align: middle;\n",
              "    }\n",
              "\n",
              "    .dataframe tbody tr th {\n",
              "        vertical-align: top;\n",
              "    }\n",
              "\n",
              "    .dataframe thead th {\n",
              "        text-align: right;\n",
              "    }\n",
              "</style>\n",
              "<table border=\"1\" class=\"dataframe\">\n",
              "  <thead>\n",
              "    <tr style=\"text-align: right;\">\n",
              "      <th></th>\n",
              "      <th>Harapan_Lama_Sekolah</th>\n",
              "      <th>Pengeluaran_Perkapita</th>\n",
              "      <th>Rerata_Lama_Sekolah</th>\n",
              "      <th>Usia_Harapan_Hidup</th>\n",
              "      <th>IPM</th>\n",
              "    </tr>\n",
              "  </thead>\n",
              "  <tbody>\n",
              "    <tr>\n",
              "      <th>0</th>\n",
              "      <td>14.36</td>\n",
              "      <td>9572</td>\n",
              "      <td>9.37</td>\n",
              "      <td>69.96</td>\n",
              "      <td>High</td>\n",
              "    </tr>\n",
              "    <tr>\n",
              "      <th>1</th>\n",
              "      <td>13.90</td>\n",
              "      <td>7148</td>\n",
              "      <td>9.48</td>\n",
              "      <td>65.28</td>\n",
              "      <td>Normal</td>\n",
              "    </tr>\n",
              "    <tr>\n",
              "      <th>2</th>\n",
              "      <td>14.32</td>\n",
              "      <td>8776</td>\n",
              "      <td>8.68</td>\n",
              "      <td>67.43</td>\n",
              "      <td>Normal</td>\n",
              "    </tr>\n",
              "    <tr>\n",
              "      <th>3</th>\n",
              "      <td>14.60</td>\n",
              "      <td>8180</td>\n",
              "      <td>8.88</td>\n",
              "      <td>64.40</td>\n",
              "      <td>Normal</td>\n",
              "    </tr>\n",
              "    <tr>\n",
              "      <th>4</th>\n",
              "      <td>14.01</td>\n",
              "      <td>8030</td>\n",
              "      <td>9.67</td>\n",
              "      <td>68.22</td>\n",
              "      <td>Normal</td>\n",
              "    </tr>\n",
              "    <tr>\n",
              "      <th>...</th>\n",
              "      <td>...</td>\n",
              "      <td>...</td>\n",
              "      <td>...</td>\n",
              "      <td>...</td>\n",
              "      <td>...</td>\n",
              "    </tr>\n",
              "    <tr>\n",
              "      <th>2191</th>\n",
              "      <td>10.13</td>\n",
              "      <td>5522</td>\n",
              "      <td>4.91</td>\n",
              "      <td>65.32</td>\n",
              "      <td>Low</td>\n",
              "    </tr>\n",
              "    <tr>\n",
              "      <th>2192</th>\n",
              "      <td>7.11</td>\n",
              "      <td>5440</td>\n",
              "      <td>2.51</td>\n",
              "      <td>65.26</td>\n",
              "      <td>Low</td>\n",
              "    </tr>\n",
              "    <tr>\n",
              "      <th>2193</th>\n",
              "      <td>9.79</td>\n",
              "      <td>4761</td>\n",
              "      <td>2.99</td>\n",
              "      <td>64.83</td>\n",
              "      <td>Low</td>\n",
              "    </tr>\n",
              "    <tr>\n",
              "      <th>2194</th>\n",
              "      <td>14.99</td>\n",
              "      <td>14922</td>\n",
              "      <td>11.30</td>\n",
              "      <td>70.15</td>\n",
              "      <td>High</td>\n",
              "    </tr>\n",
              "    <tr>\n",
              "      <th>2195</th>\n",
              "      <td>12.91</td>\n",
              "      <td>11059</td>\n",
              "      <td>8.17</td>\n",
              "      <td>71.20</td>\n",
              "      <td>High</td>\n",
              "    </tr>\n",
              "  </tbody>\n",
              "</table>\n",
              "<p>2196 rows × 5 columns</p>\n",
              "</div>\n",
              "      <button class=\"colab-df-convert\" onclick=\"convertToInteractive('df-f29f439d-ca7b-4d4d-8f56-f109d3d70c3c')\"\n",
              "              title=\"Convert this dataframe to an interactive table.\"\n",
              "              style=\"display:none;\">\n",
              "        \n",
              "  <svg xmlns=\"http://www.w3.org/2000/svg\" height=\"24px\"viewBox=\"0 0 24 24\"\n",
              "       width=\"24px\">\n",
              "    <path d=\"M0 0h24v24H0V0z\" fill=\"none\"/>\n",
              "    <path d=\"M18.56 5.44l.94 2.06.94-2.06 2.06-.94-2.06-.94-.94-2.06-.94 2.06-2.06.94zm-11 1L8.5 8.5l.94-2.06 2.06-.94-2.06-.94L8.5 2.5l-.94 2.06-2.06.94zm10 10l.94 2.06.94-2.06 2.06-.94-2.06-.94-.94-2.06-.94 2.06-2.06.94z\"/><path d=\"M17.41 7.96l-1.37-1.37c-.4-.4-.92-.59-1.43-.59-.52 0-1.04.2-1.43.59L10.3 9.45l-7.72 7.72c-.78.78-.78 2.05 0 2.83L4 21.41c.39.39.9.59 1.41.59.51 0 1.02-.2 1.41-.59l7.78-7.78 2.81-2.81c.8-.78.8-2.07 0-2.86zM5.41 20L4 18.59l7.72-7.72 1.47 1.35L5.41 20z\"/>\n",
              "  </svg>\n",
              "      </button>\n",
              "      \n",
              "  <style>\n",
              "    .colab-df-container {\n",
              "      display:flex;\n",
              "      flex-wrap:wrap;\n",
              "      gap: 12px;\n",
              "    }\n",
              "\n",
              "    .colab-df-convert {\n",
              "      background-color: #E8F0FE;\n",
              "      border: none;\n",
              "      border-radius: 50%;\n",
              "      cursor: pointer;\n",
              "      display: none;\n",
              "      fill: #1967D2;\n",
              "      height: 32px;\n",
              "      padding: 0 0 0 0;\n",
              "      width: 32px;\n",
              "    }\n",
              "\n",
              "    .colab-df-convert:hover {\n",
              "      background-color: #E2EBFA;\n",
              "      box-shadow: 0px 1px 2px rgba(60, 64, 67, 0.3), 0px 1px 3px 1px rgba(60, 64, 67, 0.15);\n",
              "      fill: #174EA6;\n",
              "    }\n",
              "\n",
              "    [theme=dark] .colab-df-convert {\n",
              "      background-color: #3B4455;\n",
              "      fill: #D2E3FC;\n",
              "    }\n",
              "\n",
              "    [theme=dark] .colab-df-convert:hover {\n",
              "      background-color: #434B5C;\n",
              "      box-shadow: 0px 1px 3px 1px rgba(0, 0, 0, 0.15);\n",
              "      filter: drop-shadow(0px 1px 2px rgba(0, 0, 0, 0.3));\n",
              "      fill: #FFFFFF;\n",
              "    }\n",
              "  </style>\n",
              "\n",
              "      <script>\n",
              "        const buttonEl =\n",
              "          document.querySelector('#df-f29f439d-ca7b-4d4d-8f56-f109d3d70c3c button.colab-df-convert');\n",
              "        buttonEl.style.display =\n",
              "          google.colab.kernel.accessAllowed ? 'block' : 'none';\n",
              "\n",
              "        async function convertToInteractive(key) {\n",
              "          const element = document.querySelector('#df-f29f439d-ca7b-4d4d-8f56-f109d3d70c3c');\n",
              "          const dataTable =\n",
              "            await google.colab.kernel.invokeFunction('convertToInteractive',\n",
              "                                                     [key], {});\n",
              "          if (!dataTable) return;\n",
              "\n",
              "          const docLinkHtml = 'Like what you see? Visit the ' +\n",
              "            '<a target=\"_blank\" href=https://colab.research.google.com/notebooks/data_table.ipynb>data table notebook</a>'\n",
              "            + ' to learn more about interactive tables.';\n",
              "          element.innerHTML = '';\n",
              "          dataTable['output_type'] = 'display_data';\n",
              "          await google.colab.output.renderOutput(dataTable, element);\n",
              "          const docLink = document.createElement('div');\n",
              "          docLink.innerHTML = docLinkHtml;\n",
              "          element.appendChild(docLink);\n",
              "        }\n",
              "      </script>\n",
              "    </div>\n",
              "  </div>\n",
              "  "
            ]
          },
          "metadata": {},
          "execution_count": 3
        }
      ]
    },
    {
      "cell_type": "code",
      "source": [
        "data.info()"
      ],
      "metadata": {
        "colab": {
          "base_uri": "https://localhost:8080/"
        },
        "id": "MFtcE93ybid-",
        "outputId": "f38ecdfc-98ce-4027-94c6-8da568b82625"
      },
      "execution_count": null,
      "outputs": [
        {
          "output_type": "stream",
          "name": "stdout",
          "text": [
            "<class 'pandas.core.frame.DataFrame'>\n",
            "RangeIndex: 2196 entries, 0 to 2195\n",
            "Data columns (total 5 columns):\n",
            " #   Column                 Non-Null Count  Dtype  \n",
            "---  ------                 --------------  -----  \n",
            " 0   Harapan_Lama_Sekolah   2196 non-null   float64\n",
            " 1   Pengeluaran_Perkapita  2196 non-null   int64  \n",
            " 2   Rerata_Lama_Sekolah    2196 non-null   float64\n",
            " 3   Usia_Harapan_Hidup     2196 non-null   float64\n",
            " 4   IPM                    2196 non-null   object \n",
            "dtypes: float64(3), int64(1), object(1)\n",
            "memory usage: 85.9+ KB\n"
          ]
        }
      ]
    },
    {
      "cell_type": "code",
      "source": [
        "#Inisialisasi variabel X\n",
        "X = data[['Harapan_Lama_Sekolah','Pengeluaran_Perkapita','Rerata_Lama_Sekolah','Usia_Harapan_Hidup']]\n",
        "X.head(10)"
      ],
      "metadata": {
        "colab": {
          "base_uri": "https://localhost:8080/",
          "height": 363
        },
        "id": "k81khp8idf1I",
        "outputId": "d7197a82-5834-4f0c-808f-33992cb1f9a4"
      },
      "execution_count": null,
      "outputs": [
        {
          "output_type": "execute_result",
          "data": {
            "text/plain": [
              "   Harapan_Lama_Sekolah  Pengeluaran_Perkapita  Rerata_Lama_Sekolah  \\\n",
              "0                 14.36                   9572                 9.37   \n",
              "1                 13.90                   7148                 9.48   \n",
              "2                 14.32                   8776                 8.68   \n",
              "3                 14.60                   8180                 8.88   \n",
              "4                 14.01                   8030                 9.67   \n",
              "5                 13.04                   8577                 8.21   \n",
              "6                 14.28                  10780                 9.86   \n",
              "7                 14.61                   9593                 9.55   \n",
              "8                 14.73                   9644                10.33   \n",
              "9                 14.47                   9860                 9.00   \n",
              "\n",
              "   Usia_Harapan_Hidup  \n",
              "0               69.96  \n",
              "1               65.28  \n",
              "2               67.43  \n",
              "3               64.40  \n",
              "4               68.22  \n",
              "5               68.74  \n",
              "6               68.86  \n",
              "7               67.99  \n",
              "8               69.79  \n",
              "9               66.95  "
            ],
            "text/html": [
              "\n",
              "  <div id=\"df-0f8b1ea7-c2b7-4db6-b319-8d817770a9ef\">\n",
              "    <div class=\"colab-df-container\">\n",
              "      <div>\n",
              "<style scoped>\n",
              "    .dataframe tbody tr th:only-of-type {\n",
              "        vertical-align: middle;\n",
              "    }\n",
              "\n",
              "    .dataframe tbody tr th {\n",
              "        vertical-align: top;\n",
              "    }\n",
              "\n",
              "    .dataframe thead th {\n",
              "        text-align: right;\n",
              "    }\n",
              "</style>\n",
              "<table border=\"1\" class=\"dataframe\">\n",
              "  <thead>\n",
              "    <tr style=\"text-align: right;\">\n",
              "      <th></th>\n",
              "      <th>Harapan_Lama_Sekolah</th>\n",
              "      <th>Pengeluaran_Perkapita</th>\n",
              "      <th>Rerata_Lama_Sekolah</th>\n",
              "      <th>Usia_Harapan_Hidup</th>\n",
              "    </tr>\n",
              "  </thead>\n",
              "  <tbody>\n",
              "    <tr>\n",
              "      <th>0</th>\n",
              "      <td>14.36</td>\n",
              "      <td>9572</td>\n",
              "      <td>9.37</td>\n",
              "      <td>69.96</td>\n",
              "    </tr>\n",
              "    <tr>\n",
              "      <th>1</th>\n",
              "      <td>13.90</td>\n",
              "      <td>7148</td>\n",
              "      <td>9.48</td>\n",
              "      <td>65.28</td>\n",
              "    </tr>\n",
              "    <tr>\n",
              "      <th>2</th>\n",
              "      <td>14.32</td>\n",
              "      <td>8776</td>\n",
              "      <td>8.68</td>\n",
              "      <td>67.43</td>\n",
              "    </tr>\n",
              "    <tr>\n",
              "      <th>3</th>\n",
              "      <td>14.60</td>\n",
              "      <td>8180</td>\n",
              "      <td>8.88</td>\n",
              "      <td>64.40</td>\n",
              "    </tr>\n",
              "    <tr>\n",
              "      <th>4</th>\n",
              "      <td>14.01</td>\n",
              "      <td>8030</td>\n",
              "      <td>9.67</td>\n",
              "      <td>68.22</td>\n",
              "    </tr>\n",
              "    <tr>\n",
              "      <th>5</th>\n",
              "      <td>13.04</td>\n",
              "      <td>8577</td>\n",
              "      <td>8.21</td>\n",
              "      <td>68.74</td>\n",
              "    </tr>\n",
              "    <tr>\n",
              "      <th>6</th>\n",
              "      <td>14.28</td>\n",
              "      <td>10780</td>\n",
              "      <td>9.86</td>\n",
              "      <td>68.86</td>\n",
              "    </tr>\n",
              "    <tr>\n",
              "      <th>7</th>\n",
              "      <td>14.61</td>\n",
              "      <td>9593</td>\n",
              "      <td>9.55</td>\n",
              "      <td>67.99</td>\n",
              "    </tr>\n",
              "    <tr>\n",
              "      <th>8</th>\n",
              "      <td>14.73</td>\n",
              "      <td>9644</td>\n",
              "      <td>10.33</td>\n",
              "      <td>69.79</td>\n",
              "    </tr>\n",
              "    <tr>\n",
              "      <th>9</th>\n",
              "      <td>14.47</td>\n",
              "      <td>9860</td>\n",
              "      <td>9.00</td>\n",
              "      <td>66.95</td>\n",
              "    </tr>\n",
              "  </tbody>\n",
              "</table>\n",
              "</div>\n",
              "      <button class=\"colab-df-convert\" onclick=\"convertToInteractive('df-0f8b1ea7-c2b7-4db6-b319-8d817770a9ef')\"\n",
              "              title=\"Convert this dataframe to an interactive table.\"\n",
              "              style=\"display:none;\">\n",
              "        \n",
              "  <svg xmlns=\"http://www.w3.org/2000/svg\" height=\"24px\"viewBox=\"0 0 24 24\"\n",
              "       width=\"24px\">\n",
              "    <path d=\"M0 0h24v24H0V0z\" fill=\"none\"/>\n",
              "    <path d=\"M18.56 5.44l.94 2.06.94-2.06 2.06-.94-2.06-.94-.94-2.06-.94 2.06-2.06.94zm-11 1L8.5 8.5l.94-2.06 2.06-.94-2.06-.94L8.5 2.5l-.94 2.06-2.06.94zm10 10l.94 2.06.94-2.06 2.06-.94-2.06-.94-.94-2.06-.94 2.06-2.06.94z\"/><path d=\"M17.41 7.96l-1.37-1.37c-.4-.4-.92-.59-1.43-.59-.52 0-1.04.2-1.43.59L10.3 9.45l-7.72 7.72c-.78.78-.78 2.05 0 2.83L4 21.41c.39.39.9.59 1.41.59.51 0 1.02-.2 1.41-.59l7.78-7.78 2.81-2.81c.8-.78.8-2.07 0-2.86zM5.41 20L4 18.59l7.72-7.72 1.47 1.35L5.41 20z\"/>\n",
              "  </svg>\n",
              "      </button>\n",
              "      \n",
              "  <style>\n",
              "    .colab-df-container {\n",
              "      display:flex;\n",
              "      flex-wrap:wrap;\n",
              "      gap: 12px;\n",
              "    }\n",
              "\n",
              "    .colab-df-convert {\n",
              "      background-color: #E8F0FE;\n",
              "      border: none;\n",
              "      border-radius: 50%;\n",
              "      cursor: pointer;\n",
              "      display: none;\n",
              "      fill: #1967D2;\n",
              "      height: 32px;\n",
              "      padding: 0 0 0 0;\n",
              "      width: 32px;\n",
              "    }\n",
              "\n",
              "    .colab-df-convert:hover {\n",
              "      background-color: #E2EBFA;\n",
              "      box-shadow: 0px 1px 2px rgba(60, 64, 67, 0.3), 0px 1px 3px 1px rgba(60, 64, 67, 0.15);\n",
              "      fill: #174EA6;\n",
              "    }\n",
              "\n",
              "    [theme=dark] .colab-df-convert {\n",
              "      background-color: #3B4455;\n",
              "      fill: #D2E3FC;\n",
              "    }\n",
              "\n",
              "    [theme=dark] .colab-df-convert:hover {\n",
              "      background-color: #434B5C;\n",
              "      box-shadow: 0px 1px 3px 1px rgba(0, 0, 0, 0.15);\n",
              "      filter: drop-shadow(0px 1px 2px rgba(0, 0, 0, 0.3));\n",
              "      fill: #FFFFFF;\n",
              "    }\n",
              "  </style>\n",
              "\n",
              "      <script>\n",
              "        const buttonEl =\n",
              "          document.querySelector('#df-0f8b1ea7-c2b7-4db6-b319-8d817770a9ef button.colab-df-convert');\n",
              "        buttonEl.style.display =\n",
              "          google.colab.kernel.accessAllowed ? 'block' : 'none';\n",
              "\n",
              "        async function convertToInteractive(key) {\n",
              "          const element = document.querySelector('#df-0f8b1ea7-c2b7-4db6-b319-8d817770a9ef');\n",
              "          const dataTable =\n",
              "            await google.colab.kernel.invokeFunction('convertToInteractive',\n",
              "                                                     [key], {});\n",
              "          if (!dataTable) return;\n",
              "\n",
              "          const docLinkHtml = 'Like what you see? Visit the ' +\n",
              "            '<a target=\"_blank\" href=https://colab.research.google.com/notebooks/data_table.ipynb>data table notebook</a>'\n",
              "            + ' to learn more about interactive tables.';\n",
              "          element.innerHTML = '';\n",
              "          dataTable['output_type'] = 'display_data';\n",
              "          await google.colab.output.renderOutput(dataTable, element);\n",
              "          const docLink = document.createElement('div');\n",
              "          docLink.innerHTML = docLinkHtml;\n",
              "          element.appendChild(docLink);\n",
              "        }\n",
              "      </script>\n",
              "    </div>\n",
              "  </div>\n",
              "  "
            ]
          },
          "metadata": {},
          "execution_count": 5
        }
      ]
    },
    {
      "cell_type": "code",
      "source": [
        "#Inisialisasi variabel y\n",
        "y = data['IPM']\n",
        "y.head()"
      ],
      "metadata": {
        "colab": {
          "base_uri": "https://localhost:8080/"
        },
        "id": "ZfsJyO9-XoZk",
        "outputId": "87425b2a-8354-4f74-c618-628bf55827de"
      },
      "execution_count": null,
      "outputs": [
        {
          "output_type": "execute_result",
          "data": {
            "text/plain": [
              "0      High\n",
              "1    Normal\n",
              "2    Normal\n",
              "3    Normal\n",
              "4    Normal\n",
              "Name: IPM, dtype: object"
            ]
          },
          "metadata": {},
          "execution_count": 6
        }
      ]
    },
    {
      "cell_type": "markdown",
      "source": [
        "Preprocessing Data menggunakan encode"
      ],
      "metadata": {
        "id": "jBMFOSX6GIOt"
      }
    },
    {
      "cell_type": "code",
      "source": [
        "#Mengodekan variabel y atau IPM\n",
        "le=LabelEncoder()\n",
        "\n",
        "y=le.fit_transform(y)"
      ],
      "metadata": {
        "id": "f84U8tguXwxI"
      },
      "execution_count": null,
      "outputs": []
    },
    {
      "cell_type": "markdown",
      "source": [
        "encoder dilakukan untuk menginisiasi data IPM yang sebelumnya berupa kategorik menjadi data numerik"
      ],
      "metadata": {
        "id": "YSx0ge5qJVwL"
      }
    },
    {
      "cell_type": "code",
      "source": [
        "#Splitting dataset menjadi data training sebesar 70% dan data testing sebesar 30%\n",
        "X_train, X_test, y_train, y_test = train_test_split(X, y, test_size=0.3)"
      ],
      "metadata": {
        "id": "TXzHlmHYX1hA"
      },
      "execution_count": null,
      "outputs": []
    },
    {
      "cell_type": "code",
      "source": [
        "#Inisialisasi model Adaboost dengan estimator sebanyak 50\n",
        "AB = AdaBoostClassifier(n_estimators=50, learning_rate=1, random_state=42)"
      ],
      "metadata": {
        "id": "1FLypO-CX637"
      },
      "execution_count": null,
      "outputs": []
    },
    {
      "cell_type": "code",
      "source": [
        "#Modelling Adaboost dari data training\n",
        "model1 = AB.fit(X_train, y_train)"
      ],
      "metadata": {
        "id": "AWApTfPCYDo5"
      },
      "execution_count": null,
      "outputs": []
    },
    {
      "cell_type": "code",
      "source": [
        "#Inisialisasi hasil prediksi model Adaboost dari data testing dengan nama y_pred\n",
        "y_pred = model1.predict(X_test)"
      ],
      "metadata": {
        "id": "Z0akCIQbYNnv"
      },
      "execution_count": null,
      "outputs": []
    },
    {
      "cell_type": "code",
      "source": [
        "#Menampilkan hasil prediksi dari data testing\n",
        "y_pred"
      ],
      "metadata": {
        "colab": {
          "base_uri": "https://localhost:8080/"
        },
        "id": "XfmYo1GRYXXX",
        "outputId": "e817bf96-f858-4f58-c9d8-b9cd9f3c51f7"
      },
      "execution_count": null,
      "outputs": [
        {
          "output_type": "execute_result",
          "data": {
            "text/plain": [
              "array([1, 2, 2, 2, 0, 2, 0, 0, 2, 2, 2, 2, 0, 0, 2, 0, 2, 2, 2, 0, 0, 1,\n",
              "       0, 2, 2, 2, 0, 2, 2, 2, 0, 2, 2, 2, 2, 1, 2, 2, 2, 2, 0, 2, 2, 2,\n",
              "       2, 0, 2, 2, 1, 2, 2, 2, 1, 2, 2, 1, 0, 2, 0, 0, 2, 0, 2, 0, 0, 0,\n",
              "       2, 2, 2, 2, 0, 1, 2, 2, 2, 0, 0, 2, 2, 2, 0, 1, 0, 0, 0, 2, 2, 2,\n",
              "       1, 2, 1, 0, 0, 1, 2, 0, 2, 0, 2, 0, 2, 0, 0, 0, 2, 0, 0, 0, 0, 2,\n",
              "       1, 0, 2, 0, 2, 1, 2, 2, 2, 0, 2, 2, 2, 1, 2, 0, 2, 0, 2, 2, 0, 2,\n",
              "       0, 0, 0, 0, 2, 0, 2, 0, 0, 1, 0, 0, 2, 2, 0, 2, 1, 1, 2, 2, 0, 2,\n",
              "       2, 2, 0, 0, 2, 2, 2, 2, 2, 0, 2, 2, 2, 0, 0, 0, 2, 2, 2, 0, 1, 0,\n",
              "       2, 2, 2, 0, 2, 0, 0, 0, 1, 0, 2, 2, 0, 2, 2, 0, 2, 2, 2, 0, 2, 0,\n",
              "       0, 0, 2, 2, 2, 2, 0, 0, 0, 2, 0, 2, 0, 0, 0, 2, 0, 0, 2, 0, 2, 2,\n",
              "       0, 2, 0, 2, 2, 2, 0, 2, 0, 0, 2, 2, 0, 2, 2, 0, 0, 2, 2, 2, 2, 2,\n",
              "       0, 0, 0, 2, 0, 0, 0, 2, 0, 0, 0, 2, 2, 1, 0, 0, 2, 2, 2, 2, 2, 2,\n",
              "       0, 2, 2, 2, 2, 1, 0, 2, 0, 0, 0, 2, 0, 2, 2, 2, 0, 0, 0, 0, 0, 2,\n",
              "       2, 2, 0, 0, 2, 2, 2, 2, 2, 2, 0, 0, 0, 2, 2, 2, 0, 2, 2, 0, 2, 2,\n",
              "       0, 0, 2, 2, 0, 1, 0, 0, 0, 2, 0, 2, 2, 2, 1, 0, 2, 2, 0, 0, 0, 1,\n",
              "       0, 2, 2, 0, 2, 2, 2, 1, 1, 0, 2, 2, 1, 2, 1, 0, 1, 2, 2, 0, 2, 1,\n",
              "       2, 2, 2, 2, 0, 0, 0, 0, 2, 0, 0, 2, 2, 2, 0, 0, 2, 2, 0, 0, 1, 2,\n",
              "       2, 0, 0, 2, 2, 2, 0, 2, 0, 2, 2, 2, 1, 2, 0, 0, 2, 0, 0, 0, 2, 0,\n",
              "       0, 0, 2, 1, 0, 0, 0, 2, 0, 2, 0, 2, 0, 2, 0, 2, 2, 1, 2, 2, 0, 0,\n",
              "       2, 2, 2, 2, 0, 1, 2, 2, 2, 2, 0, 2, 0, 2, 0, 0, 2, 0, 0, 2, 0, 0,\n",
              "       1, 2, 0, 2, 2, 1, 2, 2, 0, 2, 2, 0, 0, 2, 2, 2, 0, 0, 0, 0, 2, 1,\n",
              "       2, 0, 0, 2, 2, 2, 2, 2, 2, 0, 0, 2, 0, 0, 2, 2, 2, 0, 0, 2, 2, 0,\n",
              "       0, 2, 0, 1, 0, 2, 2, 0, 0, 0, 2, 0, 0, 0, 0, 0, 0, 0, 2, 1, 0, 2,\n",
              "       2, 1, 2, 0, 0, 0, 2, 1, 0, 2, 2, 0, 2, 2, 0, 1, 2, 2, 0, 0, 0, 1,\n",
              "       2, 0, 0, 2, 2, 0, 0, 2, 0, 2, 0, 2, 0, 2, 2, 0, 0, 2, 2, 2, 2, 0,\n",
              "       0, 0, 2, 0, 0, 2, 0, 0, 2, 0, 1, 0, 0, 0, 0, 2, 0, 2, 1, 2, 2, 2,\n",
              "       2, 0, 2, 2, 2, 0, 0, 0, 0, 2, 1, 0, 0, 2, 0, 2, 0, 0, 0, 0, 2, 2,\n",
              "       2, 2, 2, 0, 2, 2, 2, 2, 2, 0, 0, 0, 0, 1, 2, 0, 0, 2, 2, 2, 0, 2,\n",
              "       0, 0, 0, 2, 2, 2, 0, 0, 0, 0, 2, 1, 2, 0, 2, 2, 2, 2, 2, 2, 2, 0,\n",
              "       0, 2, 0, 1, 2, 2, 2, 0, 0, 0, 0, 0, 0, 0, 2, 2, 2, 0, 0, 2, 1])"
            ]
          },
          "metadata": {},
          "execution_count": 12
        }
      ]
    },
    {
      "cell_type": "code",
      "source": [
        "feature_importances = pd.Series(model1.feature_importances_, index=X_train.columns)\n",
        "feature_importances.nlargest(4).plot(kind='barh')\n",
        "plt.show()"
      ],
      "metadata": {
        "colab": {
          "base_uri": "https://localhost:8080/",
          "height": 265
        },
        "id": "FGYDQSFh7Ar6",
        "outputId": "ec20a006-a888-4ee5-ac69-5a1d34f1da84"
      },
      "execution_count": null,
      "outputs": [
        {
          "output_type": "display_data",
          "data": {
            "text/plain": [
              "<Figure size 432x288 with 1 Axes>"
            ],
            "image/png": "[encoded data removed]"
          },
          "metadata": {
            "needs_background": "light"
          }
        }
      ]
    },
    {
      "cell_type": "markdown",
      "source": [
        "importance plot dari Adabost, menampilkan 2 fitur terpenting dalam membuat prediksi.\n",
        "Hasil visualisasi diatas menjelaskan fitur berkontribusi pada prediksi akhir yang saling hubungan antara fitur dan target variabel."
      ],
      "metadata": {
        "id": "SiUTUEGv7LpM"
      }
    },
    {
      "cell_type": "code",
      "source": [
        "#Nilai akurasi yang diperoleh dari model Adaboost\n",
        "print('Adaboost Model Accuracy:',accuracy_score(y_test,y_pred))"
      ],
      "metadata": {
        "colab": {
          "base_uri": "https://localhost:8080/"
        },
        "id": "wg-VYs8EYbdx",
        "outputId": "bfd9e40d-a1e7-4b92-adbf-1f7bdd4ac14a"
      },
      "execution_count": null,
      "outputs": [
        {
          "output_type": "stream",
          "name": "stdout",
          "text": [
            "Adaboost Model Accuracy: 0.7465857359635811\n"
          ]
        }
      ]
    },
    {
      "cell_type": "markdown",
      "source": [
        "RANDOOM FOREST"
      ],
      "metadata": {
        "id": "ckRLU5Mqkk6K"
      }
    },
    {
      "cell_type": "code",
      "source": [
        "#Inisialisasi model Random Forest dengan estimator sebanyak 50\n",
        "RF = RandomForestClassifier(n_estimators=50, criterion=\"entropy\", random_state=42)"
      ],
      "metadata": {
        "id": "GmniFBUkZP6m"
      },
      "execution_count": null,
      "outputs": []
    },
    {
      "cell_type": "code",
      "source": [
        "#Modelling Random Forest dari data training\n",
        "model2 = RF.fit(X_train, y_train)"
      ],
      "metadata": {
        "id": "jHxzeHYdcnJe"
      },
      "execution_count": null,
      "outputs": []
    },
    {
      "cell_type": "code",
      "source": [
        "#Inisialisasi hasil prediksi model Adaboost dari data testing dengan nama y_pred\n",
        "y_pred2 = model2.predict(X_test)"
      ],
      "metadata": {
        "id": "mdc1ZycmZ6iC"
      },
      "execution_count": null,
      "outputs": []
    },
    {
      "cell_type": "code",
      "source": [
        "#Menampilkan hasil prediksi dari data testing\n",
        "y_pred2"
      ],
      "metadata": {
        "colab": {
          "base_uri": "https://localhost:8080/"
        },
        "id": "a59vw_j-Z93M",
        "outputId": "ac9454ca-f17e-40a2-a5e4-e40f763feade"
      },
      "execution_count": null,
      "outputs": [
        {
          "output_type": "execute_result",
          "data": {
            "text/plain": [
              "array([1, 2, 2, 1, 2, 2, 0, 3, 0, 2, 2, 2, 3, 0, 2, 0, 2, 2, 2, 0, 2, 1,\n",
              "       0, 2, 2, 2, 0, 2, 2, 0, 0, 2, 0, 0, 2, 2, 2, 2, 2, 2, 0, 2, 0, 2,\n",
              "       2, 0, 2, 2, 1, 2, 2, 2, 2, 2, 1, 1, 0, 2, 0, 3, 0, 2, 2, 3, 3, 2,\n",
              "       2, 0, 2, 0, 0, 2, 2, 2, 2, 0, 2, 2, 2, 2, 0, 1, 0, 0, 0, 2, 2, 2,\n",
              "       1, 2, 2, 0, 0, 2, 2, 0, 2, 2, 2, 0, 2, 0, 2, 3, 2, 0, 0, 0, 3, 2,\n",
              "       1, 0, 2, 3, 2, 2, 0, 2, 2, 0, 1, 2, 2, 2, 2, 0, 2, 0, 2, 2, 0, 2,\n",
              "       0, 0, 2, 3, 2, 2, 2, 0, 0, 2, 0, 0, 2, 2, 0, 0, 2, 2, 2, 2, 0, 2,\n",
              "       2, 2, 3, 2, 2, 2, 2, 2, 2, 2, 0, 0, 0, 0, 0, 2, 0, 2, 0, 0, 1, 0,\n",
              "       2, 2, 2, 2, 0, 0, 0, 2, 2, 3, 2, 2, 0, 2, 2, 0, 2, 0, 2, 0, 2, 0,\n",
              "       0, 0, 2, 2, 2, 2, 0, 0, 0, 2, 3, 2, 2, 0, 3, 2, 3, 0, 2, 0, 2, 2,\n",
              "       3, 2, 0, 2, 0, 2, 0, 2, 2, 0, 2, 2, 0, 2, 2, 0, 3, 2, 2, 2, 2, 2,\n",
              "       0, 0, 2, 2, 2, 3, 0, 2, 3, 3, 2, 2, 2, 1, 0, 0, 0, 2, 2, 2, 2, 2,\n",
              "       0, 2, 2, 2, 0, 2, 0, 2, 0, 2, 0, 2, 0, 2, 2, 2, 0, 0, 3, 3, 0, 0,\n",
              "       2, 2, 0, 0, 2, 0, 2, 2, 2, 2, 2, 3, 3, 2, 2, 0, 0, 2, 2, 0, 2, 2,\n",
              "       0, 3, 2, 0, 2, 1, 0, 0, 0, 0, 0, 2, 2, 2, 1, 3, 2, 2, 0, 2, 2, 1,\n",
              "       0, 2, 2, 0, 2, 2, 2, 2, 2, 0, 2, 2, 2, 2, 1, 0, 2, 2, 2, 0, 2, 1,\n",
              "       2, 2, 2, 2, 0, 3, 0, 0, 0, 3, 3, 2, 2, 2, 3, 0, 2, 0, 0, 0, 2, 2,\n",
              "       2, 2, 3, 2, 2, 2, 0, 2, 0, 2, 2, 2, 2, 2, 0, 0, 0, 0, 0, 3, 0, 2,\n",
              "       2, 0, 2, 2, 0, 3, 0, 0, 2, 2, 0, 2, 0, 2, 0, 2, 2, 1, 0, 2, 0, 2,\n",
              "       2, 2, 2, 2, 0, 1, 2, 2, 2, 2, 0, 2, 3, 0, 0, 0, 2, 0, 0, 2, 0, 0,\n",
              "       1, 2, 0, 2, 2, 1, 0, 2, 0, 2, 2, 0, 0, 0, 0, 2, 3, 0, 0, 0, 2, 2,\n",
              "       2, 0, 0, 2, 2, 2, 2, 2, 0, 0, 0, 2, 0, 0, 0, 0, 2, 2, 0, 2, 2, 0,\n",
              "       0, 2, 0, 1, 0, 2, 2, 0, 0, 0, 2, 3, 2, 0, 3, 2, 0, 0, 2, 1, 0, 0,\n",
              "       2, 1, 0, 0, 2, 0, 2, 2, 0, 2, 2, 2, 2, 2, 3, 2, 2, 2, 0, 0, 0, 2,\n",
              "       0, 0, 0, 0, 2, 3, 0, 2, 0, 2, 0, 2, 0, 2, 2, 0, 0, 2, 2, 2, 0, 0,\n",
              "       0, 0, 0, 2, 0, 2, 0, 0, 2, 0, 1, 0, 0, 0, 0, 2, 3, 2, 2, 2, 2, 2,\n",
              "       2, 0, 0, 2, 2, 0, 3, 2, 0, 2, 1, 0, 0, 2, 2, 2, 0, 0, 0, 0, 2, 2,\n",
              "       2, 0, 2, 2, 2, 2, 0, 2, 0, 3, 2, 0, 0, 1, 2, 0, 3, 2, 2, 2, 2, 0,\n",
              "       3, 0, 0, 2, 2, 2, 0, 3, 3, 3, 2, 1, 2, 0, 2, 2, 2, 2, 2, 2, 0, 0,\n",
              "       0, 2, 0, 1, 0, 2, 2, 0, 0, 0, 0, 0, 0, 0, 2, 2, 2, 0, 0, 2, 1])"
            ]
          },
          "metadata": {},
          "execution_count": 18
        }
      ]
    },
    {
      "cell_type": "code",
      "source": [
        "feature_importances = pd.Series(model2.feature_importances_, index=X_train.columns)\n",
        "feature_importances.nlargest(4).plot(kind='barh')\n",
        "plt.show()"
      ],
      "metadata": {
        "colab": {
          "base_uri": "https://localhost:8080/",
          "height": 265
        },
        "id": "Y9lu6-bb5uV9",
        "outputId": "3f766a45-ea06-4f0b-f3e3-bc9375459878"
      },
      "execution_count": null,
      "outputs": [
        {
          "output_type": "display_data",
          "data": {
            "text/plain": [
              "<Figure size 432x288 with 1 Axes>"
            ],
            "image/png": "[encoded data removed]"
          },
          "metadata": {
            "needs_background": "light"
          }
        }
      ]
    },
    {
      "cell_type": "markdown",
      "source": [
        "Importance Plot yang dihasilka dengan Random Forest menampilkan 4 fitur penting terhadap Indeks Pembangunan Manusia. dan yang paling tinggi yaitu Pengeluaran Perkapita"
      ],
      "metadata": {
        "id": "mFUlt19VksUx"
      }
    },
    {
      "cell_type": "code",
      "source": [
        "#Nilai akurasi yang diperoleh dari model Random Forest\n",
        "print('Random Forest Model Accuracy:',accuracy_score(y_test,y_pred2))"
      ],
      "metadata": {
        "colab": {
          "base_uri": "https://localhost:8080/"
        },
        "id": "gRbGIP61aNMo",
        "outputId": "ad8ce556-5aaf-41d5-da5b-0bfdfba953c5"
      },
      "execution_count": null,
      "outputs": [
        {
          "output_type": "stream",
          "name": "stdout",
          "text": [
            "Random Forest Model Accuracy: 0.9620637329286799\n"
          ]
        }
      ]
    },
    {
      "cell_type": "markdown",
      "source": [
        "KESIMPULAN"
      ],
      "metadata": {
        "id": "_tG05x1P2a6x"
      }
    },
    {
      "cell_type": "markdown",
      "source": [
        "\n",
        "\n",
        "1.  Hasil akurasi Klasifikasi menggunakan Adaboost didapatkan yaitu Adaboost Model Accuracy: 0.7465857359635811\n",
        "2.   Hasil akurasi klasifikasi menggunakan Random Forest didapatkan yaitu Random Forest Model Accuracy:  0.9620637329286799\n",
        "\n",
        "Dari hasil tersebut dapat disimpulkan bahwa dalam melakukan klasifikasi Indeks Pembangunan Manusia Random Forest sangat bagus dalam melakukan evaluasi karena mendapatkan hasil akurasi yang baik.\n",
        "Variable importance yang paling mempengaruhi Indeks Pengembangan Manusia (IPM) yaitu Pengeluaran Perkapita.\n",
        "\n"
      ],
      "metadata": {
        "id": "GCZXQaTI2crp"
      }
    }
  ]
}